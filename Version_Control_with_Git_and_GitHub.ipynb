{
  "nbformat": 4,
  "nbformat_minor": 0,
  "metadata": {
    "kernelspec": {
      "display_name": "Python 3",
      "language": "python",
      "name": "python3"
    },
    "language_info": {
      "codemirror_mode": {
        "name": "ipython",
        "version": 3
      },
      "file_extension": ".py",
      "mimetype": "text/x-python",
      "name": "python",
      "nbconvert_exporter": "python",
      "pygments_lexer": "ipython3",
      "version": "3.7.4"
    },
    "colab": {
      "name": "Version_Control_with_Git_and_GitHub.ipynb",
      "provenance": [],
      "toc_visible": true
    }
  },
  "cells": [
    {
      "cell_type": "markdown",
      "metadata": {
        "id": "7aj6s0x_Twbn"
      },
      "source": [
        "https://subscription.packtpub.com/book/data/9781800209763/1/ch01lvl1sec06/testing-debugging-and-version-control"
      ]
    },
    {
      "cell_type": "markdown",
      "metadata": {
        "id": "xcXOdhXERp3D"
      },
      "source": [
        "#Ejercicio 1.09: Control de versiones con Git y GitHub\r\n",
        "Este ejercicio nos guiará a través de todos los pasos necesarios para comenzar con Git y GitHub. Si aún no tiene experiencia trabajando con el control de versiones, este ejercicio le resultará beneficioso.\r\n",
        "\r\n",
        "Realice los siguientes pasos para completar este ejercicio:\r\n",
        "\r\n",
        "Primero, si aún no lo ha hecho, regístrese para obtener una cuenta de GitHub en https://www.github.com/ y regístrese. \r\n",
        "\r\n",
        "Esto le permitirá alojar los archivos cuya versión desea controlar en su almacenamiento en la nube.\r\n",
        "\r\n",
        "Vaya a https://git-scm.com/downloads y descargue el software de cliente Git para su sistema e instálelo. Este cliente de Git será responsable de comunicarse con el servidor de GitHub. Sabes si tu cliente Git se instaló correctamente si puedes ejecutar el gitcomando en tu Terminal:"
      ]
    },
    {
      "cell_type": "markdown",
      "metadata": {
        "id": "TWwDa9-hRp1e"
      },
      "source": [
        "De lo contrario, es posible que deba reiniciar el sistema para que la instalación surta efecto.\r\n",
        "\r\n",
        "Ahora, comencemos el proceso de aplicar el control de versiones a un proyecto de muestra. Primero, cree una carpeta ficticia y genere un cuaderno de Jupyter y un archivo de texto input.txt con el siguiente contenido:\r\n",
        "\r\n",
        "1,1,1\r\n",
        "\r\n",
        "1,1,1"
      ]
    },
    {
      "cell_type": "markdown",
      "metadata": {
        "id": "igHWuEaiRpk_"
      },
      "source": [
        "En la primera celda del cuaderno de Jupyter, escriba una función llamada add_elements() que tome dos listas de números y las sume por elementos. La función debería devolver una lista que consta de las sumas de elementos; puede asumir que las dos listas de parámetros tienen la misma longitud:"
      ]
    },
    {
      "cell_type": "code",
      "metadata": {
        "id": "phioF4CiQCrN"
      },
      "source": [
        "def add_elements(a, b):\n",
        "    result = []\n",
        "    for item_a, item_b in zip(a, b):\n",
        "        result.append(item_a + item_b)\n",
        "\n",
        "    return result"
      ],
      "execution_count": 1,
      "outputs": []
    },
    {
      "cell_type": "markdown",
      "metadata": {
        "id": "mxCtGM2YSVgu"
      },
      "source": [
        "En la siguiente celda de código, lea el input.txt archivo usando una with declaración y extraiga las dos últimas líneas del archivo usando la readlines() función y la indexación de listas:\r\n"
      ]
    },
    {
      "cell_type": "code",
      "metadata": {
        "id": "2Ll3DeGYQCrZ"
      },
      "source": [
        "with open('input.txt', 'r') as f:\n",
        "    lines = f.readlines()\n",
        "\n",
        "last_line1, last_line2 = lines[-2], lines[-1]"
      ],
      "execution_count": 2,
      "outputs": []
    },
    {
      "cell_type": "markdown",
      "metadata": {
        "id": "U-7DNyZNS2UH"
      },
      "source": [
        "Tenga en cuenta que en la open() función, el segundo argumento, 'r' especifica que estamos leyendo en el archivo, en lugar de escribir en el archivo.\r\n",
        "\r\n",
        "En una nueva celda de código, convierta estas dos cadenas de entrada de texto en listas de números, primero usando la str.split() función con el ','argumento para aislar los números individuales en cada línea, y luego las funciones map() y int() para aplicar la conversión a números enteros por elementos:"
      ]
    },
    {
      "cell_type": "code",
      "metadata": {
        "id": "SJG3eWnRQCra"
      },
      "source": [
        "list1 = list(map(int, last_line1[: -1].split(',')))\n",
        "list2 = list(map(int, last_line2[: -1].split(',')))"
      ],
      "execution_count": 3,
      "outputs": []
    },
    {
      "cell_type": "markdown",
      "metadata": {
        "id": "SidhZKZ6TLJf"
      },
      "source": [
        "En una nueva celda de código, llame add_elements() a list1 y list2. Escriba la lista devuelta en el mismo archivo de entrada en una nueva línea con el mismo formato de valores separados por comas ( CSV ):"
      ]
    },
    {
      "cell_type": "code",
      "metadata": {
        "id": "uo2oYAxRQCrb"
      },
      "source": [
        "new_list = add_elements(list1, list2)\n",
        "\n",
        "with open('input.txt', 'a') as f:\n",
        "    for i, item in enumerate(new_list):\n",
        "        f.write(str(item))\n",
        "        \n",
        "        if i < len(new_list) - 1:\n",
        "            f.write(',')\n",
        "        else:\n",
        "            f.write('\\n')"
      ],
      "execution_count": 4,
      "outputs": []
    },
    {
      "cell_type": "markdown",
      "metadata": {
        "id": "91rvMDMHTVCl"
      },
      "source": [
        "Aquí el 'a' argumento especifica que estamos escribiendo para agregar una nueva línea al archivo, en lugar de leer y sobrescribir el archivo por completo.\r\n",
        "\r\n",
        "Ejecute la celda de código y verifique que el archivo de texto se haya actualizado a lo siguiente:\r\n",
        "\r\n",
        "1,1,1\r\n",
        "\r\n",
        "1,1,1\r\n",
        "\r\n",
        "2,2,2"
      ]
    },
    {
      "cell_type": "code",
      "metadata": {
        "id": "Xfq5qAe0QCrb"
      },
      "source": [
        ""
      ],
      "execution_count": null,
      "outputs": []
    },
    {
      "cell_type": "markdown",
      "metadata": {
        "id": "Q8hEkDmxTq7n"
      },
      "source": [
        "Esta es la configuración actual de nuestro proyecto de muestra hasta ahora: tenemos un archivo de texto y un script de Python dentro de una carpeta; el script puede alterar el contenido del archivo de texto cuando se ejecuta. Esta configuración es bastante común en situaciones de la vida real: puede tener un archivo de datos que contenga alguna información de la que le gustaría realizar un seguimiento y un programa Python que pueda leer esos datos y actualizarlos de alguna manera (tal vez a través de cálculo o agregar nuevos datos recopilados externamente).\r\n",
        "\r\n",
        "Ahora, implementemos el control de versiones en este proyecto de muestra.\r\n",
        "\r\n",
        "Vaya a su cuenta de GitHub en línea, haga clic en el icono del signo más ( + ) en la esquina superior derecha de la ventana y elija la New repositoryopción, como se ilustra aquí:"
      ]
    },
    {
      "cell_type": "markdown",
      "metadata": {
        "id": "XvHs8olr7cXQ"
      },
      "source": [
        "Ir a la carpeta local:\r\n",
        "\r\n",
        "$ cd c:/python_git\r\n",
        "\r\n",
        "$ cd Exercise1.09\r\n",
        "\r\n",
        "Initialized empty Git repository in C:/python_git/Exercise1.09/.git/\r\n",
        "\r\n",
        "$ git add .\r\n",
        "\r\n",
        "$ git commit -m \"mi primer commit\"\r\n",
        "\r\n",
        "$ git remote add origin https://github.com/luchorivera/Estadistica.git\r\n",
        "\r\n",
        "$ git branch -M main\r\n",
        "\r\n",
        "$ git push -u origin main\r\n",
        "\r\n",
        "Enumerating objects: 5, done.\r\n",
        "Counting objects: 100% (5/5), done.\r\n",
        "Delta compression using up to 4 threads\r\n",
        "Compressing objects: 100% (4/4), done.\r\n",
        "Writing objects: 100% (5/5), 3.08 KiB | 1.54 MiB/s, done.\r\n",
        "Total 5 (delta 0), reused 0 (delta 0), pack-reused 0\r\n",
        "To https://github.com/luchorivera/Estadistica.git\r\n",
        " * [new branch]      main -> main\r\n",
        "Branch 'main' set up to track remote branch 'main' from 'origin'.\r\n",
        "\r\n",
        "Lito copiado la carpeta en GitHub (Proyecto: luchorivera/Estadistica)"
      ]
    },
    {
      "cell_type": "markdown",
      "metadata": {
        "id": "LjrV--BP-wTh"
      },
      "source": [
        "Vaya al sitio web del repositorio en línea para verificar que los archivos locales que creamos se hayan cargado en GitHub.\r\n",
        "\r\n",
        "En su computadora local, ejecute el script incluido en el cuaderno de Jupyter y cambie el archivo de texto.\r\n",
        "\r\n",
        "Ahora, nos gustaría enviar este cambio al repositorio de GitHub. En su Terminal, ejecute los siguientes comandos nuevamente:\r\n",
        "\r\n",
        "git add .\r\n",
        "\r\n",
        "git commit\r\n",
        "\r\n",
        "git push origin master\r\n",
        "\r\n",
        "Vaya o actualice el sitio web de GitHub para verificar que el cambio que hicimos la segunda vez también se haya realizado en GitHub."
      ]
    },
    {
      "cell_type": "code",
      "metadata": {
        "id": "J3awRotc7sHw"
      },
      "source": [
        ""
      ],
      "execution_count": null,
      "outputs": []
    }
  ]
}